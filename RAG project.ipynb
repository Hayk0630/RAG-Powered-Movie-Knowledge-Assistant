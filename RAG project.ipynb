{
  "cells": [
    {
      "cell_type": "markdown",
      "metadata": {},
      "source": [
        "Importing neccesary libraries\n"
      ]
    },
    {
      "cell_type": "code",
      "execution_count": null,
      "metadata": {},
      "outputs": [],
      "source": [
        "from langchain_community.document_loaders.text import TextLoader\n",
        "from langchain.text_splitter import RecursiveCharacterTextSplitter\n",
        "from langchain_chroma import Chroma\n",
        "from langchain_huggingface.embeddings import HuggingFaceEmbeddings\n",
        "from transformers import pipeline\n",
        "from langchain_core.vectorstores import VectorStoreRetriever\n",
        "from langchain.chains import RetrievalQA\n",
        "from langchain_huggingface.llms import HuggingFacePipeline"
      ]
    },
    {
      "cell_type": "markdown",
      "metadata": {},
      "source": [
        "Loading the data "
      ]
    },
    {
      "cell_type": "code",
      "execution_count": null,
      "metadata": {
        "id": "n08ZAedWdKaj"
      },
      "outputs": [],
      "source": [
        "loader = TextLoader(\"harry1.txt\")\n",
        "docs = loader.load_and_split(text_splitter=RecursiveCharacterTextSplitter(chunk_size=500, chunk_overlap=15))"
      ]
    },
    {
      "cell_type": "markdown",
      "metadata": {},
      "source": [
        "Getting the Hugging Face Embedding and creating the vector database"
      ]
    },
    {
      "cell_type": "code",
      "execution_count": null,
      "metadata": {
        "id": "pbp59IIXfOut"
      },
      "outputs": [
        {
          "name": "stderr",
          "output_type": "stream",
          "text": [
            "c:\\Users\\acer\\Desktop\\programming\\projects\\RAG\\venv\\Lib\\site-packages\\tqdm\\auto.py:21: TqdmWarning: IProgress not found. Please update jupyter and ipywidgets. See https://ipywidgets.readthedocs.io/en/stable/user_install.html\n",
            "  from .autonotebook import tqdm as notebook_tqdm\n",
            "Xet Storage is enabled for this repo, but the 'hf_xet' package is not installed. Falling back to regular HTTP download. For better performance, install the package with: `pip install huggingface_hub[hf_xet]` or `pip install hf_xet`\n"
          ]
        }
      ],
      "source": [
        "embed_model = HuggingFaceEmbeddings(model_name=\"intfloat/e5-large-v2\")\n",
        "\n",
        "vector_store = Chroma.from_documents(docs, embedding=embed_model, persist_directory=\"./chroma_db4\")"
      ]
    },
    {
      "cell_type": "markdown",
      "metadata": {},
      "source": [
        "Checking how well does the similarity search work on our vector database"
      ]
    },
    {
      "cell_type": "code",
      "execution_count": 4,
      "metadata": {
        "colab": {
          "base_uri": "https://localhost:8080/",
          "height": 88
        },
        "collapsed": true,
        "id": "Jhv0J3iHfRau",
        "outputId": "866f8d60-d633-4709-f2a0-9a1ceeef5af2"
      },
      "outputs": [
        {
          "data": {
            "text/plain": [
              "\"Your top hats sleek and tall,\\n\\nFor I'm the Hogwarts Sorting Hat\\n\\nAnd I can cap them all.\\n\\nThere's nothing hidden in your head\\n\\nThe Sorting Hat can't see,\\n\\nSo try me on and I will tell you\\n\\nWhere you ought to be.\\n\\nYou might belong in Gryffindor,\\n\\nWhere dwell the brave at heart,\\n\\nTheir daring, nerve, and chivalry Set Gryffindors apart;\\n\\nYou might belong in Hufflepuff,\\n\\nWhere they are just and loyal,\\n\\nThose patient Hufflepuffis are true And unafraid of toil;\\n\\nOr yet in wise old Ravenclaw,\""
            ]
          },
          "execution_count": 4,
          "metadata": {},
          "output_type": "execute_result"
        }
      ],
      "source": [
        "vector_store.similarity_search(\"What section of Hogwarts does the Sorting Hat ultimately place Harry Potter in?\", k=3)[0].page_content"
      ]
    },
    {
      "cell_type": "markdown",
      "metadata": {},
      "source": [
        "Creating the retriever part of the RAG"
      ]
    },
    {
      "cell_type": "code",
      "execution_count": null,
      "metadata": {
        "colab": {
          "base_uri": "https://localhost:8080/"
        },
        "id": "-yqQbkqGinH0",
        "outputId": "70d2cb37-9c6f-4ff7-bb36-aa87139e7b1d"
      },
      "outputs": [
        {
          "name": "stderr",
          "output_type": "stream",
          "text": [
            "Xet Storage is enabled for this repo, but the 'hf_xet' package is not installed. Falling back to regular HTTP download. For better performance, install the package with: `pip install huggingface_hub[hf_xet]` or `pip install hf_xet`\n",
            "Xet Storage is enabled for this repo, but the 'hf_xet' package is not installed. Falling back to regular HTTP download. For better performance, install the package with: `pip install huggingface_hub[hf_xet]` or `pip install hf_xet`\n",
            "Device set to use cpu\n"
          ]
        }
      ],
      "source": [
        "retriever = VectorStoreRetriever(vectorstore=vector_store,search_kwargs = {'k':1})\n",
        "generator = pipeline(\n",
        "    \"text2text-generation\",         \n",
        "    model=\"google/flan-t5-base\",\n",
        "    max_new_tokens=512\n",
        ")\n",
        "llm = HuggingFacePipeline(pipeline=generator)\n",
        "\n",
        "# Build the retrieval QA chain\n",
        "qa_chain = RetrievalQA.from_llm(llm=llm, retriever=retriever)\n"
      ]
    },
    {
      "cell_type": "markdown",
      "metadata": {},
      "source": [
        "Quiz time"
      ]
    },
    {
      "cell_type": "code",
      "execution_count": null,
      "metadata": {
        "colab": {
          "base_uri": "https://localhost:8080/"
        },
        "id": "swA0MjfqjNtO",
        "outputId": "ff607975-dc53-4e38-ec34-8cd4a8cd4121"
      },
      "outputs": [
        {
          "data": {
            "text/plain": [
              "{'query': '13. Give general information: Who was the headmaster of Hogwarts?\\n\\n',\n",
              " 'result': 'Albus Dumbledore.'}"
            ]
          },
          "execution_count": 7,
          "metadata": {},
          "output_type": "execute_result"
        }
      ],
      "source": [
        "qa_chain.invoke(\"\"\"13.Who was the headmaster of Hogwarts?\"\"\")"
      ]
    },
    {
      "cell_type": "code",
      "execution_count": 14,
      "metadata": {
        "id": "bbcGuOjStDZa"
      },
      "outputs": [
        {
          "name": "stdout",
          "output_type": "stream",
          "text": [
            "* Running on local URL:  http://127.0.0.1:7861\n",
            "* To create a public link, set `share=True` in `launch()`.\n"
          ]
        },
        {
          "data": {
            "text/html": [
              "<div><iframe src=\"http://127.0.0.1:7861/\" width=\"100%\" height=\"500\" allow=\"autoplay; camera; microphone; clipboard-read; clipboard-write;\" frameborder=\"0\" allowfullscreen></iframe></div>"
            ],
            "text/plain": [
              "<IPython.core.display.HTML object>"
            ]
          },
          "metadata": {},
          "output_type": "display_data"
        },
        {
          "data": {
            "text/plain": []
          },
          "execution_count": 14,
          "metadata": {},
          "output_type": "execute_result"
        }
      ],
      "source": [
        "import gradio as gr\n",
        "\n",
        "def qa_interface(question):\n",
        "    return qa_chain.invoke(question)['result']\n",
        "\n",
        "gr.Interface(\n",
        "    fn=qa_interface,\n",
        "    inputs=gr.Textbox(label=\"Ask a question about Harry Potter\"),\n",
        "    outputs=gr.Textbox(label=\"Answer\"),\n",
        "    title=\"Harry Potter QA\"\n",
        ").launch()"
      ]
    }
  ],
  "metadata": {
    "accelerator": "GPU",
    "colab": {
      "gpuType": "T4",
      "provenance": []
    },
    "kernelspec": {
      "display_name": "venv",
      "language": "python",
      "name": "python3"
    },
    "language_info": {
      "codemirror_mode": {
        "name": "ipython",
        "version": 3
      },
      "file_extension": ".py",
      "mimetype": "text/x-python",
      "name": "python",
      "nbconvert_exporter": "python",
      "pygments_lexer": "ipython3",
      "version": "3.13.3"
    }
  },
  "nbformat": 4,
  "nbformat_minor": 0
}
